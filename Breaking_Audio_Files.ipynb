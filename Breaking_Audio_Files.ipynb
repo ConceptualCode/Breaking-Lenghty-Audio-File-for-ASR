{
  "nbformat": 4,
  "nbformat_minor": 0,
  "metadata": {
    "colab": {
      "provenance": []
    },
    "kernelspec": {
      "name": "python3",
      "display_name": "Python 3"
    },
    "language_info": {
      "name": "python"
    }
  },
  "cells": [
    {
      "cell_type": "code",
      "source": [
        "%%capture\n",
        "!pip install pydub"
      ],
      "metadata": {
        "id": "22tgzMzprLXO"
      },
      "execution_count": null,
      "outputs": []
    },
    {
      "cell_type": "code",
      "source": [
        "from pydub import AudioSegment\n",
        "import os\n",
        "\n",
        "# Set the length of each segment in milliseconds\n",
        "segment_length = 30000\n",
        "\n",
        "# Set the path to the folder containing the audio files\n",
        "audio_folder = ''\n",
        "\n",
        "# Set the path to the folder where the segmented audio files will be saved\n",
        "output_folder = ''"
      ],
      "metadata": {
        "id": "MCFUbyn9rJNz"
      },
      "execution_count": null,
      "outputs": []
    },
    {
      "cell_type": "code",
      "execution_count": null,
      "metadata": {
        "id": "S-8vqHylmViG"
      },
      "outputs": [],
      "source": [
        "# Loop through each audio file in the folder\n",
        "for filename in os.listdir(audio_folder):\n",
        "    if filename.endswith('.mp3') or filename.endswith('.wav'):\n",
        "        # Load the audio file using PyDub\n",
        "        audio = AudioSegment.from_file(audio_folder + filename)\n",
        "\n",
        "        # Calculate the number of segments that can be created from the audio file\n",
        "        num_segments = len(audio) // segment_length\n",
        "\n",
        "        # Create a new folder with the same name as the audio file\n",
        "        new_folder = os.path.join(output_folder, os.path.splitext(filename)[0])\n",
        "        os.makedirs(new_folder, exist_ok=True)\n",
        "\n",
        "        # Loop through each segment and save it as a new audio file\n",
        "        for i in range(num_segments):\n",
        "            start = i * segment_length\n",
        "            end = (i + 1) * segment_length\n",
        "            segment = audio[start:end]\n",
        "            segment.export(os.path.join(new_folder, f'{i}.wav'), format='wav')\n"
      ]
    },
    {
      "cell_type": "code",
      "source": [],
      "metadata": {
        "id": "Bhm3Utfsx_91"
      },
      "execution_count": null,
      "outputs": []
    }
  ]
}